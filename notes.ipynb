{
 "cells": [
  {
   "cell_type": "markdown",
   "metadata": {},
   "source": [
    "# Markov Process\n",
    "\n",
    "**Markov Property:** State $S_{t}$ is Markov if and only if\n",
    "\n",
    "$$ P[S_{t+1} | S_{t}] = P[S_{t+1} | S_{1}, S_{2}, ..., S_{t}] $$\n",
    "\n",
    "**State transition matrix:** Gives the probability of going from one state $S$ to $S~{'}$\n",
    "\n",
    "$$ P_{SS~{'}} = P[S_{t+1} = s~{'} | S_{t} = s]  $$\n",
    "\n",
    "This above function is represented as a matrix which defines the dynamics of the Markov process\n",
    "\n",
    "$$ P = \\begin{bmatrix}P_{11} & ... & P_{1n}\\\\.\\\\.\\\\. \\\\P_{n1}&...& P_{nn}\\end{bmatrix} $$\n",
    "\n",
    "**Markov Process:** can be defined by a tuple $<S, P> $ Where,\n",
    "\n",
    "$S$ - is set of all states\n",
    "\n",
    "$P$ - is the transition matrix"
   ]
  },
  {
   "cell_type": "markdown",
   "metadata": {},
   "source": [
    "# Markov Reward Process"
   ]
  }
 ],
 "metadata": {
  "kernelspec": {
   "display_name": "Python 3",
   "language": "python",
   "name": "python3"
  },
  "language_info": {
   "codemirror_mode": {
    "name": "ipython",
    "version": 3
   },
   "file_extension": ".py",
   "mimetype": "text/x-python",
   "name": "python",
   "nbconvert_exporter": "python",
   "pygments_lexer": "ipython3",
   "version": "3.6.2"
  }
 },
 "nbformat": 4,
 "nbformat_minor": 2
}
